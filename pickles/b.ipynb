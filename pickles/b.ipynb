{
 "cells": [
  {
   "cell_type": "code",
   "execution_count": 17,
   "metadata": {
    "collapsed": false
   },
   "outputs": [
    {
     "name": "stdout",
     "output_type": "stream",
     "text": [
      "1000000\n"
     ]
    }
   ],
   "source": [
    "import pickle as pkl\n",
    "import matplotlib.pyplot as plt\n",
    "\n",
    "a=pkl.load(open('alltags.pkl','rb'))\n",
    "\n",
    "b=[0 for _ in range(1000000)]\n",
    "c=[i for i in range(1000000)]\n",
    "print len(b)\n",
    "\n",
    "for i in a:\n",
    "    b[a[i]] += 1\n",
    "    \n",
    "plt.plot(b[1:50])    \n",
    "plt.show()\n"
   ]
  },
  {
   "cell_type": "code",
   "execution_count": 16,
   "metadata": {
    "collapsed": true
   },
   "outputs": [],
   "source": [
    "file = 'monolingual/wx_hindi.txt'\n",
    "f=open(file)\n",
    "a=f.readlines()\n",
    "\n"
   ]
  },
  {
   "cell_type": "code",
   "execution_count": null,
   "metadata": {
    "collapsed": true
   },
   "outputs": [],
   "source": []
  }
 ],
 "metadata": {
  "kernelspec": {
   "display_name": "Python 2",
   "language": "python",
   "name": "python2"
  },
  "language_info": {
   "codemirror_mode": {
    "name": "ipython",
    "version": 2
   },
   "file_extension": ".py",
   "mimetype": "text/x-python",
   "name": "python",
   "nbconvert_exporter": "python",
   "pygments_lexer": "ipython2",
   "version": "2.7.6"
  }
 },
 "nbformat": 4,
 "nbformat_minor": 0
}
